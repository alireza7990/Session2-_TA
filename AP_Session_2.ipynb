{
  "nbformat": 4,
  "nbformat_minor": 0,
  "metadata": {
    "colab": {
      "provenance": []
    },
    "kernelspec": {
      "name": "python3",
      "display_name": "Python 3"
    },
    "language_info": {
      "name": "python"
    }
  },
  "cells": [
    {
      "cell_type": "markdown",
      "source": [
        "**1- Write a function sum_of_list that takes a list of integers as input and returns the sum of all the integers in the list.**"
      ],
      "metadata": {
        "id": "U2SXQ4uocdvU"
      }
    },
    {
      "cell_type": "code",
      "source": [
        "def sum_of_list(input_list):\n",
        "  return sum(input_list)\n",
        "\n",
        "input_list = [1,2,3,4]\n",
        "output = sum_of_list(input_list)\n",
        "print(output)"
      ],
      "metadata": {
        "id": "gBN81YO7epsl",
        "colab": {
          "base_uri": "https://localhost:8080/"
        },
        "outputId": "e057d53d-770f-4a6b-e1d0-b00711efafd3"
      },
      "execution_count": 2,
      "outputs": [
        {
          "output_type": "stream",
          "name": "stdout",
          "text": [
            "10\n"
          ]
        }
      ]
    },
    {
      "cell_type": "markdown",
      "source": [
        "**2- Create a function check_key that accepts a dictionary and a key as input. The function should return True if the key exists in the dictionary and False otherwise.**"
      ],
      "metadata": {
        "id": "_uHdCD_ucrR-"
      }
    },
    {
      "cell_type": "code",
      "source": [
        "def check_key(dict1, key):\n",
        "  return key in dict1\n",
        "\n",
        "dict1 = {'name':'alireza' , 'age':24, 'phone':910291092}\n",
        "key = 'age'\n",
        "result = check_key(dict1, key)\n",
        "print(result)"
      ],
      "metadata": {
        "id": "8m_sR1-6eqeQ",
        "colab": {
          "base_uri": "https://localhost:8080/"
        },
        "outputId": "1176d0f3-4961-4dad-f329-a8e0592139d8"
      },
      "execution_count": 6,
      "outputs": [
        {
          "output_type": "stream",
          "name": "stdout",
          "text": [
            "True\n"
          ]
        }
      ]
    },
    {
      "cell_type": "markdown",
      "source": [
        "**3- Write a function reverse_string that takes a string as input and returns the string reversed.**"
      ],
      "metadata": {
        "id": "Cq4UAJUKej5e"
      }
    },
    {
      "cell_type": "code",
      "source": [
        "def reverse_string(input_string):\n",
        "  return input_string[::-1]\n",
        "\n",
        "input_string = \"Hello\"\n",
        "output_string = reverse_string(input_string)\n",
        "output_string"
      ],
      "metadata": {
        "id": "d04F4GVQerMc",
        "colab": {
          "base_uri": "https://localhost:8080/",
          "height": 35
        },
        "outputId": "da87b801-f7b7-40ab-bcb2-8226e055162f"
      },
      "execution_count": 7,
      "outputs": [
        {
          "output_type": "execute_result",
          "data": {
            "text/plain": [
              "'olleH'"
            ],
            "application/vnd.google.colaboratory.intrinsic+json": {
              "type": "string"
            }
          },
          "metadata": {},
          "execution_count": 7
        }
      ]
    },
    {
      "cell_type": "code",
      "source": [],
      "metadata": {
        "id": "9g59I1mOsmxx"
      },
      "execution_count": null,
      "outputs": []
    }
  ]
}